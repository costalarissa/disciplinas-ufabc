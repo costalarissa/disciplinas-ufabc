{
 "cells": [
  {
   "cell_type": "markdown",
   "id": "f9a4eecd",
   "metadata": {},
   "source": [
    "### Introdução\n"
   ]
  },
  {
   "cell_type": "markdown",
   "id": "881779b2",
   "metadata": {},
   "source": [
    "Neste projeto, daremos início à análise dos dados aplicando dois métodos principais: o **índice de Jaccard** e o **filtro TPEI**.\n",
    "\n",
    "- Aplicaremos o **índice de Jaccard**, que irá analisar a similaridade entre disciplinas com base em suas recomendações, o cálculo é feito pela razão do tamanho da intersecção com o tamanho da união dos nossos dados que resulta em um **score** de 0 a 1. Para isso, será construído um **grafo direcionado**, em que cada vértice representa uma disciplina e as arestas indicam recomendações entre elas, com os conjuntos comparados sendo as arestas de dois nós diferentes.\n",
    "\n",
    "- O **filtro TPEI** será responsável por eliminar uma grande quantidade de dados irrelevantes, mantendo apenas as equivalências que ocorrem com valores de TPEI iguais ou superiores. Esse filtro garente que a equivalência entre disciplinas seja significativa quantitativamente.\n",
    "\n",
    "\n"
   ]
  },
  {
   "cell_type": "markdown",
   "id": "dcb0654e",
   "metadata": {},
   "source": [
    "### Bibliografia utilizada\n"
   ]
  },
  {
   "cell_type": "markdown",
   "id": "f0d91195",
   "metadata": {},
   "source": [
    "https://huggingface.co/spaces/Ruchin/jaccard_similarity\n",
    "\n",
    "https://en.wikipedia.org/wiki/Jaccard_index\n",
    "\n",
    "https://networkx.org/documentation/stable/reference/classes/digraph.html"
   ]
  },
  {
   "cell_type": "markdown",
   "id": "5c6019d4",
   "metadata": {},
   "source": [
    "### Bibliotecas necessárias para executar o código\n"
   ]
  },
  {
   "cell_type": "markdown",
   "id": "ea616b27",
   "metadata": {},
   "source": [
    "import csv\n",
    "\n",
    "import numpy as np\n",
    "\n",
    "import pandas as pd\n",
    "\n",
    "import networkx as nx\n",
    "\n",
    "import unicodedata\n",
    "\n",
    "import requests\n",
    "\n",
    "from io import StringIO\n",
    "\n",
    "from node2vec import Node2Vec\n",
    "\n",
    "from sklearn.metrics.pairwise import cosine_similarity\n",
    "\n",
    "import seaborn as sns\n",
    "\n",
    "import matplotlib.pyplot as plt"
   ]
  },
  {
   "cell_type": "markdown",
   "id": "4ba20700",
   "metadata": {},
   "source": [
    "###  Limpeza de Dados e Carregamento do Catálogo\n"
   ]
  },
  {
   "cell_type": "code",
   "execution_count": null,
   "id": "75caac73",
   "metadata": {},
   "outputs": [],
   "source": [
    "# Normaliza uma string removendo acentos e espaços extras\n",
    "def normalize_str(s: str) -> str:\n",
    "    return (\n",
    "        unicodedata.normalize('NFKD', s)\n",
    "        .encode('ASCII', 'ignore')\n",
    "        .decode('utf-8')\n",
    "        .strip()\n",
    "    )\n",
    "\n",
    "# Versão específica para nomes de disciplinas (já normaliza e coloca lowercase)\n",
    "def normalizar_nome(nome: str) -> str:\n",
    "    return normalize_str(nome).lower()\n",
    "\n",
    "# Baixa o catálogo da UFABC direto do Repositório no GitHub\n",
    "def carregar_catalogo():\n",
    "    url = \"https://raw.githubusercontent.com/angeloodr/disciplinas-ufabc/main/catalogo_disciplinas_graduacao_2024_2025.tsv\"\n",
    "    print(\"🔄 Baixando catálogo de disciplinas...\")\n",
    "    resp = requests.get(url)\n",
    "    resp.raise_for_status()\n",
    "    df = pd.read_csv(StringIO(resp.text), sep='\\t')\n",
    "\n",
    "    # Normaliza os nomes das colunas\n",
    "    df.columns = [\n",
    "        normalize_str(col).upper().replace(' ', '_')\n",
    "        for col in df.columns\n",
    "    ]\n",
    "    print(\"✅ Download bem-sucedido!\")\n",
    "    print(\"📝 Colunas disponíveis:\", df.columns.tolist())\n",
    "    return df\n"
   ]
  },
  {
   "cell_type": "markdown",
   "id": "264a4053",
   "metadata": {},
   "source": [
    "### Construção do Grafo de Pré-Requisitos\n"
   ]
  },
  {
   "cell_type": "code",
   "execution_count": null,
   "id": "b9566a71",
   "metadata": {},
   "outputs": [],
   "source": [
    "#  Constrói grafo com arestas de pré-requisito com base na coluna RECOMENDACAO\n",
    "def construir_grafo(df: pd.DataFrame) -> nx.DiGraph:\n",
    "    print(\"📌 Construindo grafo de pré-requisitos...\")\n",
    "    G = nx.DiGraph()\n",
    "    total_arestas = 0\n",
    "\n",
    "    # Cria um dicionário de nome normalizado → sigla\n",
    "    mapping = {\n",
    "        normalizar_nome(row['DISCIPLINA']): row['SIGLA']\n",
    "        for _, row in df.iterrows()\n",
    "        if pd.notna(row['SIGLA'])\n",
    "    }\n",
    "\n",
    "    # Adiciona todos os nós com metadados\n",
    "    for _, row in df.iterrows():\n",
    "        sigla = row['SIGLA']\n",
    "        nome = row['DISCIPLINA']\n",
    "        if pd.isna(sigla): \n",
    "            continue\n",
    "        G.add_node(sigla, nome=nome)\n",
    "\n",
    "    # Adiciona as arestas baseadas nas recomendações\n",
    "    for _, row in df.iterrows():\n",
    "        curso = row['SIGLA']\n",
    "        if pd.isna(curso):\n",
    "            continue\n",
    "\n",
    "        recs = row.get('RECOMENDACAO', '')\n",
    "        if pd.isna(recs) or not isinstance(recs, str):\n",
    "            continue\n",
    "\n",
    "        for rec in recs.split(';'):\n",
    "            rec = rec.strip()\n",
    "            if not rec:\n",
    "                continue\n",
    "            rec_norm = normalizar_nome(rec)\n",
    "            if rec_norm in mapping:\n",
    "                prereq = mapping[rec_norm]\n",
    "                if not G.has_edge(prereq, curso):\n",
    "                    G.add_edge(prereq, curso, tipo='pre_requisito')\n",
    "                    total_arestas += 1\n",
    "\n",
    "    print(f\"✅ Grafo criado com {G.number_of_nodes()} nós e {total_arestas} arestas.\")\n",
    "    return G\n"
   ]
  },
  {
   "cell_type": "markdown",
   "id": "84a415e6",
   "metadata": {},
   "source": [
    "### Processamento do Grafo: Rede Direcionada e Embeddings Estruturais"
   ]
  },
  {
   "cell_type": "code",
   "execution_count": null,
   "id": "edde34a3",
   "metadata": {},
   "outputs": [],
   "source": [
    "#  Remove ciclos do grafo para que seja um DAG (necessário para cálculo de profundidade)\n",
    "def remover_ciclos(G: nx.DiGraph) -> nx.DiGraph:\n",
    "    print(\"🔁 Removendo ciclos (modo eficiente)...\")\n",
    "    G_copy = G.copy()\n",
    "    removidos = 0\n",
    "    try:\n",
    "        while True:\n",
    "            ciclo = nx.find_cycle(G_copy, orientation='original')\n",
    "            if ciclo:\n",
    "                # Remove a primeira aresta do ciclo\n",
    "                u, v, _ = ciclo[0]\n",
    "                G_copy.remove_edge(u, v)\n",
    "                removidos += 1\n",
    "    except nx.NetworkXNoCycle:\n",
    "        pass  # Não há mais ciclos\n",
    "\n",
    "    print(f\"✅ Ciclos removidos: {removidos}\")\n",
    "    return G_copy\n",
    "\n",
    "# Gera embeddings estruturais com Node2Vec\n",
    "def gerar_embeddings_node2vec(G: nx.DiGraph, dimensions=64, walk_length=10, num_walks=50, workers=1):\n",
    "    print(\"🔄 Gerando embeddings estruturais (Node2Vec)...\")\n",
    "    node2vec = Node2Vec(G, dimensions=dimensions, walk_length=walk_length, num_walks=num_walks, workers=workers)\n",
    "    model = node2vec.fit(window=5, min_count=1, batch_words=4)\n",
    "    embeddings = {node: model.wv[node] for node in G.nodes()}\n",
    "    print(\"✅ Embeddings gerados!\")\n",
    "    return embeddings\n",
    "\n",
    "# Calcula profundidade de cada nó no grafo (camada curricular)\n",
    "def calcular_profundidade(G: nx.DiGraph):\n",
    "    print(\"📏 Calculando profundidade no grafo (DAG)...\")\n",
    "    profundidades = {}\n",
    "    for node in nx.topological_sort(G):\n",
    "        preds = list(G.predecessors(node))\n",
    "        if not preds:\n",
    "            profundidades[node] = 0\n",
    "        else:\n",
    "            profundidades[node] = max(profundidades[p] for p in preds) + 1\n",
    "    print(\"✅ Profundidade calculada!\")\n",
    "    return profundidades\n",
    "\n",
    "# Salva os embeddings em CSV\n",
    "def salvar_embeddings_csv(embeddings, caminho=\"embeddings_node2vec.csv\"):\n",
    "    df = pd.DataFrame.from_dict(embeddings, orient='index')\n",
    "    df.index.name = 'DISCIPLINA'\n",
    "    df.to_csv(caminho)\n",
    "    print(f\"💾 Embeddings salvos em: {caminho}\")\n",
    "\n",
    "# Fluxo principal\n",
    "if __name__ == \"__main__\":\n",
    "    # Etapa 1 - Carregar catálogo\n",
    "    df = carregar_catalogo()\n",
    "\n",
    "    # Etapa 2 - Construir grafo\n",
    "    grafo = construir_grafo(df)\n",
    "    nx.write_graphml(grafo, \"grafo_pre_requisitos.graphml\")\n",
    "    print(\"📁 Arquivo salvo: grafo_pre_requisitos.graphml\")\n",
    "\n",
    "    # Etapa 3 - Gerar embeddings estruturais\n",
    "    embeddings = gerar_embeddings_node2vec(grafo)\n",
    "    salvar_embeddings_csv(embeddings)\n",
    "\n",
    "    # Etapa 4 - Remover ciclos e calcular profundidade\n",
    "    grafo_sem_ciclos = remover_ciclos(grafo)\n",
    "    profundidades = calcular_profundidade(grafo_sem_ciclos)\n",
    "\n",
    "    # Etapa 5 - Salvar profundidades em TXT\n",
    "    with open(\"profundidade_nos.txt\", \"w\") as f:\n",
    "        for node, prof in profundidades.items():\n",
    "            f.write(f\"{node}: {prof}\\n\")\n",
    "    print(\"📁 Profundidades salvas em: profundidade_nos.txt\")"
   ]
  },
  {
   "cell_type": "markdown",
   "id": "9d81dd00",
   "metadata": {},
   "source": [
    "#### Exemplo de output do profundidade_nos.txt\n"
   ]
  },
  {
   "cell_type": "markdown",
   "id": "863ebda3",
   "metadata": {},
   "source": [
    "NHZ2013-11: 1 \n",
    "ESHR027-21: 1\n",
    "\n",
    "NHBQ001-22: 2\n",
    "ESTO013-17: 2\n",
    "\n",
    "ESHC016-17: 3\n",
    "ESEC003-24: 3\n",
    "\n",
    "NHBQ019-22: 4\n",
    "ESTO015-17: 4\n",
    "\n",
    "MCTD007-18: 5\n",
    "MCBM013-23: 5\n",
    "\n",
    "ESZE026-17: 6\n",
    "ESZE088-17: 6\n",
    "\n",
    "MCZB020-13: 7\n",
    "NHZ1079-15: 7\n",
    "\n",
    "ESZE079-17: 8\n",
    "ESTE031-17: 8\n",
    "\n",
    "ESEN003-23: 9\n",
    "ESTE019-17: 9\n",
    "\n",
    "ESZE076-17: 10\n",
    "ESZE073-17: 10\n",
    "\n",
    "ESTE033-17: 11\n",
    "\n",
    "ESZE103-17: 12\n",
    "ESEN009-23: 12"
   ]
  },
  {
   "cell_type": "markdown",
   "id": "73b752ef",
   "metadata": {},
   "source": [
    "### Com o grafo pronto e os dados carregados, aplicaremos o Índice de Jaccard e outras medidas de similaridade para analisar as conexões entre as disciplinas.\n"
   ]
  },
  {
   "cell_type": "code",
   "execution_count": null,
   "id": "8b6057ad",
   "metadata": {},
   "outputs": [],
   "source": [
    "# Jaccard entre dois conjuntos\n",
    "def jaccard_similarity(set1, set2):\n",
    "    if not set1 or not set2:\n",
    "        return 0.0\n",
    "    return len(set1 & set2) / len(set1 | set2)\n",
    "\n",
    "# Aplica Jaccard entre predecessores ou sucessores\n",
    "def similaridade_jaccard(G, a, b, tipo='predecessor'):\n",
    "    try:\n",
    "        if tipo == 'predecessor':\n",
    "            set_a = set(G.predecessors(a))\n",
    "            set_b = set(G.predecessors(b))\n",
    "        else:\n",
    "            set_a = set(G.successors(a))\n",
    "            set_b = set(G.successors(b))\n",
    "        return jaccard_similarity(set_a, set_b)\n",
    "    except nx.NetworkXError:\n",
    "        return 0.0\n"
   ]
  },
  {
   "cell_type": "markdown",
   "id": "754709ca",
   "metadata": {},
   "source": [
    "### Aplicando similaridade de profundidade\n"
   ]
  },
  {
   "cell_type": "code",
   "execution_count": null,
   "id": "94bce001",
   "metadata": {},
   "outputs": [],
   "source": [
    "# Similaridade de profundidade\n",
    "def similaridade_profundidade(prof, a, b):\n",
    "    if a not in prof or b not in prof:\n",
    "        return 0.0\n",
    "    max_p = max(prof.values())\n",
    "    if max_p == 0:\n",
    "        return 1.0\n",
    "    return 1.0 - abs(prof[a] - prof[b]) / max_p"
   ]
  },
  {
   "cell_type": "markdown",
   "id": "3ce0bf56",
   "metadata": {},
   "source": [
    "### Aplicando similaridade Node2Vec (cosseno)\n"
   ]
  },
  {
   "cell_type": "code",
   "execution_count": null,
   "id": "11a6555d",
   "metadata": {},
   "outputs": [],
   "source": [
    "# Similaridade por Node2Vec (cosseno)\n",
    "def similaridade_node2vec(embeddings, a, b):\n",
    "    if a not in embeddings.index or b not in embeddings.index:\n",
    "        return 0.0\n",
    "    vec_a = embeddings.loc[a].values.reshape(1, -1)\n",
    "    vec_b = embeddings.loc[b].values.reshape(1, -1)\n",
    "    return cosine_similarity(vec_a, vec_b)[0][0]"
   ]
  },
  {
   "cell_type": "markdown",
   "id": "a9bb1c65",
   "metadata": {},
   "source": [
    "### Combinação das Similaridades em um Score Final"
   ]
  },
  {
   "cell_type": "code",
   "execution_count": null,
   "id": "5e055661",
   "metadata": {},
   "outputs": [],
   "source": [
    "# Combina múltiplas similaridades em score final\n",
    "def similaridade_combinada(G, embeddings, profundidades, a, b, pesos=None):\n",
    "    if pesos is None:\n",
    "        pesos = {\n",
    "            'jaccard_pred': 1.0,\n",
    "            'jaccard_succ': 1.0,\n",
    "            'profundidade': 1.0,\n",
    "            'node2vec': 1.0,\n",
    "        }\n",
    "\n",
    "    sim_jaccard_pred = similaridade_jaccard(G, a, b, tipo='predecessor')\n",
    "    sim_jaccard_succ = similaridade_jaccard(G, a, b, tipo='successor')\n",
    "    sim_profundidade = similaridade_profundidade(profundidades, a, b)\n",
    "    sim_node2vec = similaridade_node2vec(embeddings, a, b)\n",
    "\n",
    "    total_peso = sum(pesos.values())\n",
    "    score = (\n",
    "        pesos['jaccard_pred'] * sim_jaccard_pred +\n",
    "        pesos['jaccard_succ'] * sim_jaccard_succ +\n",
    "        pesos['profundidade'] * sim_profundidade +\n",
    "        pesos['node2vec'] * sim_node2vec\n",
    "    ) / total_peso\n",
    "\n",
    "    return {\n",
    "        \"score_combinado\": score,\n",
    "        \"jaccard_pred\": sim_jaccard_pred,\n",
    "        \"jaccard_succ\": sim_jaccard_succ,\n",
    "        \"profundidade\": sim_profundidade,\n",
    "        \"node2vec\": sim_node2vec\n",
    "    }"
   ]
  },
  {
   "cell_type": "markdown",
   "id": "abc82ee6",
   "metadata": {},
   "source": [
    "### Aplicando o Filtro TPEI"
   ]
  },
  {
   "cell_type": "code",
   "execution_count": null,
   "id": "df5e702b",
   "metadata": {},
   "outputs": [],
   "source": [
    "# Filtro TPEI exato: compara atributos T, P, E, I\n",
    "def filtro_tpei_exato(G, a, b):\n",
    "    for campo in ['T', 'P', 'E', 'I']:\n",
    "        if G.nodes[a].get(campo) != G.nodes[b].get(campo):\n",
    "            return False\n",
    "    return True"
   ]
  },
  {
   "cell_type": "markdown",
   "id": "e0b13c85",
   "metadata": {},
   "source": [
    "###  Geração do arquivo de similaridades filtradas (.tsv)"
   ]
  },
  {
   "cell_type": "code",
   "execution_count": null,
   "id": "53c2d2ed",
   "metadata": {},
   "outputs": [],
   "source": [
    "# Escrita incremental com filtro de profundidade e TPEI\n",
    "if __name__ == \"__main__\":\n",
    "    grafo = carregar_grafo()\n",
    "    embeddings = carregar_embeddings()\n",
    "    profundidades = carregar_profundidades()\n",
    "\n",
    "    caminho_saida = \"similaridades_disciplinas_filtrado.tsv\"\n",
    "    with open(caminho_saida, mode=\"w\", newline='', encoding='utf-8') as f_out:\n",
    "        writer = csv.writer(f_out, delimiter=\"\\t\")\n",
    "        # Cabeçalho\n",
    "        writer.writerow([\n",
    "            \"disciplina_a\", \"disciplina_b\", \"score_combinado\",\n",
    "            \"jaccard_pred\", \"jaccard_succ\", \"profundidade\", \"node2vec\"\n",
    "        ])\n",
    "\n",
    "        # Laço otimizado com filtros\n",
    "        for a in grafo.nodes():\n",
    "            for b in grafo.nodes():\n",
    "                if a == b:\n",
    "                    continue\n",
    "\n",
    "                # Filtro por profundidade (ex: 2 níveis no máximo)\n",
    "                if abs(profundidades.get(a, 0) - profundidades.get(b, 0)) > 2:\n",
    "                    continue\n",
    "\n",
    "                # Filtro TPEI exato\n",
    "                if not filtro_tpei_exato(grafo, a, b):\n",
    "                    continue\n",
    "\n",
    "                sim = similaridade_combinada(grafo, embeddings, profundidades, a, b)\n",
    "                writer.writerow([\n",
    "                    a, b, sim[\"score_combinado\"],\n",
    "                    sim[\"jaccard_pred\"], sim[\"jaccard_succ\"],\n",
    "                    sim[\"profundidade\"], sim[\"node2vec\"]\n",
    "                ])\n",
    "\n",
    "    print(f\"✅ Arquivo '{caminho_saida}' gerado com sucesso.\")\n",
    "\n",
    "    # AVISO: O ARQUIVO .TSV CONTENDO O RESULTADO DAS ANÁLISES PODE DEMORAR PARA SER GERADO DEPENDENDO DA MÁQUINA UTILIZADA PARA A EXECUÇÃO!!"
   ]
  },
  {
   "cell_type": "markdown",
   "id": "c4478dfe",
   "metadata": {},
   "source": [
    "#### Exemplos de output do .tsv gerado após todas as  medidas aplicadas anteriormente"
   ]
  },
  {
   "cell_type": "markdown",
   "id": "ff5df355",
   "metadata": {},
   "source": [
    "disciplina_a | disciplina_b | score_combinado | jaccard_pred | jaccard_succ\t| profundidade | node2vec\n",
    "\n",
    "ESZR007-21\tESZP041-14\t0.24569707012536035\t0.0\t0.0\t1.0\t-0.017211719498558556\n",
    "\n",
    "ESZR007-21\tESTS002-17\t0.22492464949039911\t0.0\t0.0\t1.0\t-0.10030140203840358\n",
    "\n",
    "ESZR007-21\tESZS001-17\t0.25426921939383706\t0.0\t0.0\t1.0\t0.017076877575348332\n",
    "\n",
    "ESZR007-21\tESZS002-17\t0.2112034532523452\t0.0\t0.0\t0.9166666666666666\t-0.0718528536572858\n",
    "\n",
    "\n",
    "NHH2035-13\tESTO013-17\t0.26971673307139743\t0.0\t0.0\t0.8333333333333334\t0.24553359895225635\n",
    "\n",
    "NHH2035-13\tESZG031-17\t0.1975990042430288\t0.0\t0.0\t1.0\t-0.20960398302788485\n",
    "\n",
    "NHH2035-13\tMCLM002-23\t0.23214671732760617\t0.0\t0.0\t1.0\t-0.07141313068957529\n",
    "\n",
    "NHH2035-13\tLHZ0040-22\t0.21642313884266529\t0.0\t0.0\t1.0\t-0.13430744462933886\n",
    "\n",
    "\n",
    "MCZB022-17\tESTB031-18\t0.5188420281610343\t0.25\t0.0\t0.9166666666666666\t0.9087014459774706\n",
    "\n",
    "MCZB022-17\tMCBM024-23\t0.47235821221947305\t0.0\t0.0\t0.9166666666666666\t0.9727661822112255\n",
    "\n",
    "MCZB022-17\tESHP016-22\t0.4825723861113853\t0.0\t0.0\t1.0\t0.9302895444455412\n",
    "\n",
    "MCZB022-17\tMCZB024-13\t0.5492527035163012\t0.3333333333333333\t0.0\t0.9166666666666666\t0.9470108140652047"
   ]
  },
  {
   "cell_type": "markdown",
   "id": "1734bda0",
   "metadata": {},
   "source": [
    "### Interpretação dos resultados de similaridade\n"
   ]
  },
  {
   "cell_type": "markdown",
   "id": "374d5585",
   "metadata": {},
   "source": [
    "##### O arquivo similaridades_disciplinas_filtrado.tsv contém pares de disciplinas que passaram por filtros estruturais (como profundidade e TPEI) e foram avaliadas segundo quatro métricas de similaridade:\n",
    "\n",
    "jaccard_pred: Similaridade de predecessores no grafo de pré-requisitos.\n",
    "\n",
    "jaccard_succ: Similaridade de sucessores.\n",
    "\n",
    "profundidade: Similaridade baseada na diferença de nível curricular (quanto menor a diferença de profundidade, maior a similaridade).\n",
    "\n",
    "node2vec: Similaridade estrutural de contexto no grafo, calculada com embeddings Node2Vec.\n",
    "\n",
    "score_combinado: Média ponderada das quatro métricas anteriores, representando uma medida geral de similaridade entre as disciplinas.\n",
    "\n",
    "\n",
    "\n"
   ]
  },
  {
   "cell_type": "markdown",
   "id": "5e88f23c",
   "metadata": {},
   "source": [
    "### Interpretação dos dos números e exemplo de análise\n"
   ]
  },
  {
   "cell_type": "markdown",
   "id": "9140cac5",
   "metadata": {},
   "source": [
    "score_combinado alto (próximo de 1) indica maior similaridade geral entre disciplinas.\n",
    "\n",
    "node2vec acima de 0.8 sugere funções parecidas na estrutura curricular.\n",
    "\n",
    "jaccard_pred e jaccard_succ iguais a 0 indicam ausência de pré-requisitos ou sucessores em comum.\n",
    "\n",
    "profundidade próxima de 1 significa que estão no mesmo nível curricular.\n",
    "\n",
    "\n",
    "### Exemplo\n",
    "\n",
    "O par MCZB022-17 e MCZB024-13 teve a maior similaridade (score ≈ 0.55), com:\n",
    "\n",
    "Jaccard de predecessores = 0.33\n",
    "\n",
    "Profundidade ≈ 0.92\n",
    "\n",
    "Node2Vec ≈ 0.94\n",
    "\n",
    "Já ESZR007-21 e ESTS002-17 tiveram score baixo (≈ 0.22), pois não compartilham vizinhos e têm embeddings distantes, mesmo estando no mesmo nível."
   ]
  },
  {
   "cell_type": "markdown",
   "id": "2d78c089",
   "metadata": {},
   "source": [
    "### Visualização por meio de um mapa de calor\n"
   ]
  },
  {
   "cell_type": "code",
   "execution_count": null,
   "id": "5bb244e3",
   "metadata": {},
   "outputs": [],
   "source": [
    "import pandas as pd\n",
    "import seaborn as sns\n",
    "import matplotlib.pyplot as plt\n",
    "\n",
    "# Carrega o TSV\n",
    "df = pd.read_csv(\"similaridades_disciplinas_filtrado.tsv\", sep=\"\\t\")\n",
    "\n",
    "# Seleciona 50 pares representativos\n",
    "amostras = pd.concat([\n",
    "    df.nlargest(10, 'score_combinado'),\n",
    "    df.nsmallest(10, 'score_combinado'),\n",
    "    df.nlargest(10, 'node2vec'),\n",
    "    df[df['jaccard_pred'] > 0].sample(10, random_state=42),\n",
    "    df.sample(10, random_state=7)\n",
    "]).drop_duplicates().reset_index(drop=True)\n",
    "\n",
    "# Indexação legível\n",
    "amostras.index = amostras[\"disciplina_a\"] + \" vs \" + amostras[\"disciplina_b\"]\n",
    "\n",
    "# Métricas para o heatmap\n",
    "metricas = [\"score_combinado\", \"jaccard_pred\", \"jaccard_succ\", \"profundidade\", \"node2vec\"]\n",
    "\n",
    "# Cria o heatmap\n",
    "plt.figure(figsize=(14, 14))\n",
    "sns.heatmap(amostras[metricas], annot=True, fmt=\".2f\", cmap=\"coolwarm\", cbar=True)\n",
    "\n",
    "plt.title(\"Mapa de Calor: Similaridade Entre Disciplinas (50 pares)\")\n",
    "plt.xticks(rotation=45)\n",
    "plt.yticks(rotation=0)\n",
    "plt.tight_layout()\n",
    "plt.show()\n"
   ]
  },
  {
   "cell_type": "markdown",
   "id": "29ed56ce",
   "metadata": {},
   "source": [
    "### Output do Mapa\n"
   ]
  },
  {
   "cell_type": "markdown",
   "id": "b6307b79",
   "metadata": {},
   "source": [
    "O gráfico abaixo apresenta um heatmap com 50 pares de disciplinas selecionados de forma representativa para demonstrar padrões nas métricas de similaridade utilizadas:\n",
    "\n",
    "score_combinado: medida geral de similaridade calculada com base em múltiplos critérios.\n",
    "\n",
    "jaccard_pred e jaccard_succ: medem sobreposição de pré-requisitos e sucessores, respectivamente.\n",
    "\n",
    "profundidade: indica o quão próximas as disciplinas estão em termos de nível curricular.\n",
    "\n",
    "node2vec: representa a semelhança estrutural entre disciplinas no grafo de currículo.\n",
    "\n",
    "Os pares foram escolhidos para cobrir casos com alta e baixa similaridade, fortes conexões por embeddings, e exemplos aleatórios, oferecendo interpretável das relações entre disciplinas."
   ]
  },
  {
   "cell_type": "markdown",
   "id": "2a63dea8",
   "metadata": {},
   "source": [
    "![alt text](mapac-1.png)"
   ]
  }
 ],
 "metadata": {
  "kernelspec": {
   "display_name": ".venv",
   "language": "python",
   "name": "python3"
  },
  "language_info": {
   "codemirror_mode": {
    "name": "ipython",
    "version": 3
   },
   "file_extension": ".py",
   "mimetype": "text/x-python",
   "name": "python",
   "nbconvert_exporter": "python",
   "pygments_lexer": "ipython3",
   "version": "3.10.0"
  }
 },
 "nbformat": 4,
 "nbformat_minor": 5
}
